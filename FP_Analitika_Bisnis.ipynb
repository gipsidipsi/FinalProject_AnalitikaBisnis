{
  "nbformat": 4,
  "nbformat_minor": 0,
  "metadata": {
    "colab": {
      "provenance": []
    },
    "kernelspec": {
      "name": "python3",
      "display_name": "Python 3"
    },
    "language_info": {
      "name": "python"
    }
  },
  "cells": [
    {
      "cell_type": "markdown",
      "source": [
        "#RESIZE FOTO#"
      ],
      "metadata": {
        "id": "FZWEBBorMZ7I"
      }
    },
    {
      "cell_type": "code",
      "source": [
        "import PIL\n",
        "import os\n",
        "import os.path\n",
        "from PIL import Image\n",
        "\n",
        "f = r'D:\\AB\\fp\\imagesdataset'\n",
        "for file in os.listdir(f):\n",
        "    f_img = f+\"/\"+file\n",
        "    img = Image.open(f_img)\n",
        "    img = img.resize((100,100))\n",
        "    img.save(f_img)"
      ],
      "metadata": {
        "id": "iSnuQHEkMgTd"
      },
      "execution_count": null,
      "outputs": []
    },
    {
      "cell_type": "markdown",
      "source": [
        "#MERGE CSV & EXPORT TO EXCEL#"
      ],
      "metadata": {
        "id": "rqiOzKEaMs7Q"
      }
    },
    {
      "cell_type": "code",
      "source": [
        "from pandas.core.indexes.range import RangeIndex\n",
        "import pandas as pd\n",
        "import numpy as np\n",
        "import os\n",
        "\n",
        "PC = 10\n",
        "width = 100\n",
        "formatPrint = \"PC{col}.{row}\"\n",
        "columnName = ['label']\n",
        "\n",
        "for i in range(PC):\n",
        "    for j in range (width):\n",
        "        columnName.append(formatPrint.format(col = i+1, row = j+1))\n",
        "dataframe = pd.DataFrame(columns=columnName)\n",
        "directory = 'csv/'\n",
        "\n",
        "for filename in os.listdir('csv'):\n",
        "    if filename.endswith(\".csv\"):\n",
        "        df = pd.read_csv(directory + filename, float_precision='round_trip')\n",
        "        df.pop('Unnamed: 0')\n",
        "        array = df.transpose().to_numpy().flatten()\n",
        "        label = os.path.splitext(filename)[0]\n",
        "        data = [label]\n",
        "        dd = array.tolist()\n",
        "        data = data + dd\n",
        "        dataframe.loc[len(dataframe)] = data\n",
        "\n",
        "dataframe.to_excel('datasetall (1).xlsx')"
      ],
      "metadata": {
        "id": "dOJL1QP2M5nM"
      },
      "execution_count": null,
      "outputs": []
    },
    {
      "cell_type": "markdown",
      "source": [
        "#RNN#"
      ],
      "metadata": {
        "id": "JTXdZS-HFAk3"
      }
    },
    {
      "cell_type": "code",
      "source": [
        "import pandas\n",
        "from keras.models import Sequential\n",
        "from keras.layers import Dense\n",
        "from keras.wrappers.scikit_learn import KerasClassifier\n",
        "from keras.utils import np_utils\n",
        "from sklearn.model_selection import cross_val_score\n",
        "from sklearn.model_selection import KFold\n",
        "from sklearn.preprocessing import LabelEncoder\n",
        "from sklearn.pipeline import Pipeline\n",
        "\n",
        "# Membaca file Excel\n",
        "dataframe = pandas.read_excel(\"dataset_sukses.xlsx\", header = None)\n",
        "dataset = dataframe.values\n",
        "ilabel = 1000\n",
        "jclass = 6\n",
        "X = dataset[:,0:ilabel].astype(float)\n",
        "Y = dataset[:,ilabel]\n",
        "\n",
        "# Encode nilai kelas sebagai integers\n",
        "encoder = LabelEncoder()\n",
        "encoder.fit(Y)\n",
        "encoded_Y = encoder.transform(Y)\n",
        "# Konversi integers menjadi variable dummy\n",
        "dummy_y = np_utils.to_categorical(encoded_Y)\n",
        "\n",
        "# Membuat model\n",
        "model = Sequential()\n",
        "model.add(Dense(8, input_dim=ilabel, activation='relu'))\n",
        "model.add(Dense(jclass, activation='softmax'))\n",
        "\n",
        "# Mengcompile model\n",
        "model.compile(loss='categorical_crossentropy', optimizer='adam', metrics=['accuracy'])\n",
        "\n",
        "nepochs = 200\n",
        "nbatch = 5\n",
        "\n",
        "# ------------ menggunakan packages\n",
        "from sklearn.model_selection import train_test_split\n",
        "X_train, X_test, y_train, y_test = train_test_split(X, dummy_y, test_size = 0.20)\n",
        "\n",
        "model.fit(X_train, y_train, epochs=nepochs, batch_size=nbatch)\n",
        "_, accuracy = model.evaluate(X_test, y_test)\n",
        "print('Accuracy Score: %.2f' % (accuracy*100))\n",
        "\n",
        "model.save_weights(\"model.h5\")\n",
        "y_score = model.predict(X_test)\n",
        "y_score\n",
        "_, accuracy = model.evaluate(X_test, y_test)\n",
        "print('Accuracy: %.2f' % (accuracy*100) + '%')\n",
        "\n",
        "fpr = dict()\n",
        "tpr = dict()\n",
        "roc_auc = dict()\n",
        "for i in range(n_classes):\n",
        " fpr[i], tpr[i], _ = roc_curve(y_test[:, i], y_score[:, i])\n",
        " roc_auc[i] = auc(fpr[i], tpr[i])\n",
        "colors = cycle(['blue', 'red', 'green', 'yellow', 'cyan', 'purple'])\n",
        "for i, color in zip(range(n_classes), colors):\n",
        " plt.plot(fpr[i], tpr[i], color=color, lw=1.5, label='ROC curve of class {0} (area = {1:0.2f})' ''.format(classes[i], roc_auc[i]))\n",
        "plt.plot([0, 1], [0, 1], 'k-', lw=1.5)\n",
        "plt.xlim([-0.05, 1.0])\n",
        "plt.ylim([0.0, 1.05])\n",
        "plt.xlabel('False Positive Rate')\n",
        "plt.ylabel('True Positive Rate')\n",
        "plt.title('Receiver operating characteristic for multi-class data')\n",
        "plt.legend(loc=\"lower right\")\n",
        "plt.show()"
      ],
      "metadata": {
        "id": "8fzdgL0K_usl"
      },
      "execution_count": null,
      "outputs": []
    },
    {
      "cell_type": "markdown",
      "source": [
        "#Naive Bayes#"
      ],
      "metadata": {
        "id": "cg4u3Y0mFGlM"
      }
    },
    {
      "cell_type": "code",
      "source": [
        "import pandas\n",
        "from sklearn.model_selection import train_test_split\n",
        "from sklearn.metrics import classification_report, confusion_matrix\n",
        "from sklearn.metrics import accuracy_score\n",
        "\n",
        "# dataframe = pandas.read_csv(\"datasetbaru.csv\", header=None)\n",
        "dataframe = pandas.read_csv(\"datasetall (1).csv\")\n",
        "dataset = dataframe.values\n",
        "X = dataset[:,0:1000].astype(float) # X diambil dari seluruh baris, kolom 2 s.d kolom 1500-1\n",
        "y = dataset[:,1000] # Y diambil dari seluruh baris, kolom 1\n",
        "\n",
        "# membagi dataset menjadi data training dan data testing\n",
        "# data training sebesar 80%, data testing sebesar 20%\n",
        "X_train, X_test, y_train, y_test = train_test_split(X, y, test_size=0.2\n",
        ", random_state=0)\n",
        "\n",
        "#-----------\n",
        "# create model \n",
        "\n",
        "from sklearn.naive_bayes import GaussianNB\n",
        "model = GaussianNB()\n",
        "clf = model.fit(X_train, y_train)\n",
        "#------------\n",
        "\n",
        "y_pred = model.predict(X_test)\n",
        "# Use score method to get accuracy of the model\n",
        "#score_te = model.score(X_test, y_test)\n",
        "#print('Accuracy Score: ', score_te)\n",
        "\n",
        "cm = confusion_matrix(y_test, y_pred)\n",
        "print (cm)\n",
        "\n",
        "# Use accuracy_score to get accuracy of the model\n",
        "acc = accuracy_score(y_test, y_pred)\n",
        "print('Accuracy Score: ', acc)\n",
        "\n",
        "print(classification_report(y_test, y_pred))\n",
        "\n",
        "import matplotlib.pyplot as plt\n",
        "y_score = model.predict_proba(X_test)\n",
        "from sklearn.preprocessing import label_binarize\n",
        "\n",
        "classes = ['anggur', 'kelapa muda', 'gula asem', 'jeruk nipis', 'semangka','sweet mango']\n",
        "# Binarize the output\n",
        "y_test = label_binarize(y_test, classes=classes)\n",
        "n_classes = y_test.shape[1]\n",
        "from matplotlib import pyplot as plt\n",
        "from itertools import cycle\n",
        "from sklearn.metrics import roc_curve, auc\n",
        "plt.style.use('ggplot')\n",
        "\n",
        "# Plotting and estimation of FPR, TPR\n",
        "fpr = dict()\n",
        "tpr = dict()\n",
        "roc_auc = dict()\n",
        "for i in range(n_classes):\n",
        " fpr[i], tpr[i], _ = roc_curve(y_test[:, i], y_score[:, i])\n",
        " roc_auc[i] = auc(fpr[i], tpr[i])\n",
        "colors = cycle(['gray', 'blue', 'green', 'red', 'yellow'])\n",
        "for i, color in zip(range(n_classes), colors):\n",
        " plt.plot(fpr[i], tpr[i], color=color, lw=1.5, label='ROC curve of class {0} (area = {1:0.2f})' ''.format(classes[i], roc_auc[i]))\n",
        "plt.plot([0, 1], [0, 1], 'k-', lw=1.5)\n",
        "plt.xlim([-0.05, 1.0])\n",
        "plt.ylim([0.0, 1.05])\n",
        "plt.xlabel('False Positive Rate')\n",
        "plt.ylabel('True Positive Rate')\n",
        "plt.title('Receiver operating characteristic for multi-class data')\n",
        "plt.legend(loc=\"lower right\")\n",
        "plt.show()"
      ],
      "metadata": {
        "id": "1gNOkMQsFgW1"
      },
      "execution_count": null,
      "outputs": []
    },
    {
      "cell_type": "markdown",
      "source": [
        "#SVM#"
      ],
      "metadata": {
        "id": "wMVs59RbGDXj"
      }
    },
    {
      "cell_type": "code",
      "source": [
        "import matplotlib.pyplot as plt\n",
        "from sklearn import svm, datasets\n",
        "from sklearn.model_selection import train_test_split\n",
        "from sklearn.preprocessing import label_binarize\n",
        "from sklearn.metrics import roc_curve, auc\n",
        "from sklearn.multiclass import OneVsRestClassifier\n",
        "from itertools import cycle\n",
        "import pandas\n",
        "plt.style.use('ggplot')\n",
        "\n",
        "# dataframe = pandas.read_csv(\"datasetall.csv\", header=None)\n",
        "dataframe = pandas.read_excel(\"datasetall (1).xlsx\")\n",
        "dataset = dataframe.values\n",
        "X = dataset[:,0:1000:].astype(float) # X diambil dari seluruh baris, kolom 2 s.d kolom 1500-1\n",
        "y = dataset[:,1000] # Y diambil dari seluruh baris, kolom 1\n",
        "classes = ['anggur', 'kelapa muda', 'gula asem', 'jeruk nipis', 'semangka','sweet mango']\n",
        "# Binarize the output\n",
        "y_bin = label_binarize(y, classes=classes)\n",
        "n_classes = y_bin.shape[1]\n",
        "# We split the data into training and test sets\n",
        "X_train, X_test, y_train, y_test = train_test_split(X, y_bin, test_size\n",
        "= 0.2, random_state=0)\n",
        "#We define the model as an SVC in OneVsRestClassifier setting.\n",
        "classifier = OneVsRestClassifier(svm.SVC(kernel='rbf', probability=True\n",
        "))\n",
        "y_score = classifier.fit(X_train, y_train).decision_function(X_test)\n",
        "# Plotting and estimation of FPR, TPR\n",
        "fpr = dict()\n",
        "tpr = dict()\n",
        "roc_auc = dict()\n",
        "for i in range(n_classes):\n",
        " fpr[i], tpr[i], _ = roc_curve(y_test[:, i], y_score[:, i])\n",
        " roc_auc[i] = auc(fpr[i], tpr[i])\n",
        "colors = cycle(['blue', 'red', 'green', 'yellow', 'cyan'])\n",
        "for i, color in zip(range(n_classes), colors):\n",
        " plt.plot(fpr[i], tpr[i], color=color, lw=1.5, label='ROC curve of class {0} (area = {1:0.2f})' ''.format(classes[i], roc_auc[i]))\n",
        "plt.plot([0, 1], [0, 1], 'k-', lw=1.5)\n",
        "plt.xlim([-0.05, 1.0])\n",
        "plt.ylim([0.0, 1.05])\n",
        "plt.xlabel('False Positive Rate')\n",
        "plt.ylabel('True Positive Rate')\n",
        "plt.title('Receiver operating characteristic for multi-class data')\n",
        "plt.legend(loc=\"lower right\")\n",
        "plt.show()\n",
        "# We split the data into training and test sets for training set\n",
        "X_train, X_test, y_train, y_test = train_test_split(X, y, test_size= 0.2, random_state=0)\n",
        "# the model\n",
        "classifier_svc = svm.SVC(kernel='rbf',random_state=0)\n",
        "# fit the model using the training set\n",
        "classifier_svc.fit(X_train, y_train)\n",
        "# predict the labels/classes of the test set\n",
        "y_pred = classifier_svc.predict(X_test)\n",
        "from sklearn.metrics import accuracy_score, classification_report\n",
        "\n",
        "# Use accuracy_score to get accuracy of the model\n",
        "acc = accuracy_score(y_test, y_pred)\n",
        "print('Accuracy Score: ', acc)\n",
        "print(classification_report(y_test, y_pred))"
      ],
      "metadata": {
        "id": "kUyf2cfEGHDE"
      },
      "execution_count": null,
      "outputs": []
    },
    {
      "cell_type": "markdown",
      "source": [
        "#Decision Tree#"
      ],
      "metadata": {
        "id": "Z2VocZyTGzM4"
      }
    },
    {
      "cell_type": "code",
      "source": [
        "import pandas as pd\n",
        "from sklearn.tree import DecisionTreeClassifier\n",
        "from sklearn.model_selection import train_test_split\n",
        "from sklearn import metrics\n",
        "from sklearn.metrics import accuracy_score, classification_report\n",
        "import matplotlib.pyplot as plt\n",
        "y_score = clf.predict_proba(X_test)\n",
        "from sklearn.preprocessing import label_binarize\n",
        "\n",
        "\n",
        "# Membaca file Excel\n",
        "df= pd.read_excel(\"datasetall (1).xlsx\", header=None)\n",
        "dataset = df.values\n",
        "X = dataset[:,0:1000:].astype(float)\n",
        "y = dataset[:,1000]\n",
        "\n",
        "# Membagi dataset menjadi data training dan testing\n",
        "# Training = 70%, Testing = 30%\n",
        "X_train, X_test, y_train, y_test = train_test_split(X, y, test_size=0.3, random_state=1)\n",
        "\n",
        "# Membuat Decision Tree classifer object\n",
        "clf = DecisionTreeClassifier()\n",
        "\n",
        "# Train Decision Tree Classifer\n",
        "clf = clf.fit(X_train,y_train)\n",
        "\n",
        "# Prediksi respons dataset test\n",
        "y_pred = clf.predict(X_test)\n",
        "\n",
        "# Menggunakan skor akurasi untuk mendapatkan akurasi dari model\n",
        "print(\"Accuracy Score:\",metrics.accuracy_score(y_test, y_pred))\n",
        "print(classification_report(y_test, y_pred))\n",
        "\n",
        "classes = ['anggur', 'kelapa muda', 'gula asem', 'jeruk nipis', 'semangka','sweet mango']\n",
        "\n",
        "# Mengubah output menjadi biner\n",
        "y_test = label_binarize(y_test, classes=classes)\n",
        "n_classes = y_test.shape[1]\n",
        "from matplotlib import pyplot as plt\n",
        "from itertools import cycle\n",
        "from sklearn.metrics import roc_curve, auc\n",
        "plt.style.use('ggplot')\n",
        "\n",
        "# Plotting dan estimasikan FPR, TPR\n",
        "fpr = dict()\n",
        "tpr = dict()\n",
        "roc_auc = dict()\n",
        "for i in range(n_classes):\n",
        " fpr[i], tpr[i], _ = roc_curve(y_test[:, i], y_score[:, i])\n",
        " roc_auc[i] = auc(fpr[i], tpr[i])\n",
        "colors = cycle(['gray', 'blue', 'green', 'red', 'yellow'])\n",
        "for i, color in zip(range(n_classes), colors):\n",
        " plt.plot(fpr[i], tpr[i], color=color, lw=1.5, label='ROC curve of class {0} (area = {1:0.2f})' ''.format(classes[i], roc_auc[i]))\n",
        "plt.plot([0, 1], [0, 1], 'k-', lw=1.5)\n",
        "plt.xlim([-0.05, 1.0])\n",
        "plt.ylim([0.0, 1.05])\n",
        "plt.xlabel('False Positive Rate')\n",
        "plt.ylabel('True Positive Rate')\n",
        "plt.title('Receiver operating characteristic for multi-class data')\n",
        "plt.legend(loc=\"lower right\")\n",
        "plt.show()\n"
      ],
      "metadata": {
        "id": "MGwaAcQ2G4EK"
      },
      "execution_count": null,
      "outputs": []
    }
  ]
}